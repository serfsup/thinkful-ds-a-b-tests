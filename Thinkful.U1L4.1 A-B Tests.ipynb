{
 "cells": [
  {
   "cell_type": "markdown",
   "metadata": {},
   "source": [
    "<h3>Does a new supplement help people sleep better?</h3>"
   ]
  },
  {
   "cell_type": "markdown",
   "metadata": {},
   "source": [
    "To test a new supplement and how it can help people sleep better, you need a currently used supplement (A) as the <b>control</b> and the <b>experimental</b> supplement (B).  The <b>sample</b> would be a group of people who will be testing out one of the two supplements, namely people who have difficulty sleeping.  These two groups should be split as evenly as possible (same proportion of men/women, similar numbers of older/younger patients, etc.).  The <b>hypothesis</b> would be that supplement B will help people to sleep better than supplement A.  The <b>outcome of interest</b> should be a measureable aspect of how the supplement is affecting the subjects sleep (either by the number of minutes of sleep that were recorded, or possibly a rubric that the subject answers in the morning upon waking, like \"On a scale of one to ten, how well did you sleep last night?\").  <b>Other variables</b> could include a rubric taken at different points in the day.  In this particular case, it would be important to have the members of the sample groups begin recording their data before they begin using the supplements (in order to have baseline data to compare against the supplement)."
   ]
  },
  {
   "cell_type": "markdown",
   "metadata": {},
   "source": [
    "<h3>Will new uniforms help a gym's business?</h3>"
   ]
  },
  {
   "cell_type": "markdown",
   "metadata": {},
   "source": [
    "To test if new uniforms would help a gym's business, it would be helpful to have multiple gyms that have similar metrics (size, number of members, urban/suburban/rural, etc.).  Of the gyms that will be part of the <b>sample</b>, half of them would be the <b>control</b> group (A) who keep their old uniforms and the other half will be the <b>experimental</b> group (B) who will wear the new uniforms. The <b>hypothesis</b> would be that the stores in group B will sign up more new customers than the stores in group A.  The <b>outcome of interest</b> would be the number of new members signed during the trial period.  <b>Other variables</b> could include the attendance rates of members that are currently enrolled, surveys given out to customers at both stores, or number of phone/internet inquiries made during the trial period."
   ]
  },
  {
   "cell_type": "markdown",
   "metadata": {},
   "source": [
    "<h3>Will a new homepage improve my online exotic pet rental business?</h3>"
   ]
  },
  {
   "cell_type": "markdown",
   "metadata": {},
   "source": [
    "To test if a new homepage will improve one's online exotic pet rental business, the A/B test needs to be done slightly differently.  The <b>sample</b> consists of only one business, so the A/B test would have to deal with some other metric.  One way to do this would be to talk to other exotic pet rental businesses and determine if they have transitioned to a new homepage.  One could then ask them for their data before and after the implementation of the new homepage (the number of rentals per month before and after the change).  If they have seen significant changes, one could analyze which aspects of the homepage were helpful (inventory/availability information regarding pets, calendar reservations, video feeds to view the pets in the store, etc.)"
   ]
  },
  {
   "cell_type": "markdown",
   "metadata": {},
   "source": [
    "<h3>If I put 'please read' in the email subject will more people read my emails?</h3>"
   ]
  },
  {
   "cell_type": "markdown",
   "metadata": {},
   "source": [
    "To test if putting \"please read\" in the email subject line will cause more people to read an email, the <b>sample</b> would be the group of people receiving the emails.  This group ideally should be separated into two groups; the <b>control</b> group would be the people who will continue to receive the emails with a standard subject line, while the <b>experimental</b> group would be the one that gets the new \"please read\" subject.  The <b>hypothesis</b> would be that the experimental group will have a higher percentage of reading the email.  Again, it would be helpful to have some baseline data, which could be found by asking the people to respond with a quick response at the end of the email.  The <b>outcome of interest</b> would be the number of people responding to the email."
   ]
  },
  {
   "cell_type": "code",
   "execution_count": null,
   "metadata": {},
   "outputs": [],
   "source": []
  }
 ],
 "metadata": {
  "kernelspec": {
   "display_name": "Python 3",
   "language": "python",
   "name": "python3"
  },
  "language_info": {
   "codemirror_mode": {
    "name": "ipython",
    "version": 3
   },
   "file_extension": ".py",
   "mimetype": "text/x-python",
   "name": "python",
   "nbconvert_exporter": "python",
   "pygments_lexer": "ipython3",
   "version": "3.6.1"
  }
 },
 "nbformat": 4,
 "nbformat_minor": 2
}
